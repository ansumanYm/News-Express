{
  "cells": [
    {
      "cell_type": "markdown",
      "metadata": {
        "id": "EVMADj1MTG4z"
      },
      "source": [
        "## Loading Libraries."
      ]
    },
    {
      "cell_type": "code",
      "execution_count": null,
      "metadata": {
        "id": "CxoousTqWESH"
      },
      "outputs": [],
      "source": [
        "#!pip install spacy\n",
        "import spacy\n",
        "from spacy.lang.en.stop_words import STOP_WORDS\n",
        "from string import punctuation"
      ]
    },
    {
      "cell_type": "markdown",
      "metadata": {
        "id": "DmU1k2xxV70h"
      },
      "source": [
        "## Gathering Text for Summarisation."
      ]
    },
    {
      "cell_type": "code",
      "execution_count": null,
      "metadata": {
        "id": "g7qYaMl6TASy"
      },
      "outputs": [],
      "source": [
        "text = \"\"\"\n",
        "\n",
        "Washington: The US Supreme Court's historic end to nationwide abortion rights on Friday drew unusual criticism from some of America's closest allies and bucks a global trend to more liberal reproductive rights.\n",
        "The decision came one day after the Supreme Court also struck down some of the modest restrictions on guns -- an issue that, along with the US embrace of the death penalty, has long shocked other Western nations.\n",
        "British Prime Minister Boris Johnson -- a Conservative who worked closely with former president Donald Trump, whose judicial nominations paved the way for Friday's decision -- said the Supreme Court decision will have \"massive impacts\" worldwide.\n",
        "\n",
        "\"I think it's a big step backwards. I've always believed in a woman's right to choose and I stick to that view, and that's why the UK has the laws that it does,\" Johnson said on a visit to Rwanda.\n",
        "\n",
        "Canadian Prime Minister Justin Trudeau denounced the decision across the border as \"horrific.\"\n",
        "\n",
        "\"No government, politician, or man should tell a woman what she can and cannot do with her body,\" Trudeau wrote on Twitter.\n",
        "\n",
        "French President Emmanuel Macron voiced his \"solidarity with women whose freedoms are today challenged\" by the US Supreme Court, while Swedish Foreign Minister Ann Linde said that legal and safe abortion was a fundamental right.\n",
        "\n",
        "\"Depriving women of their individual rights is a backlash against decades of hard-fought work,\" Linde said.\n",
        "\n",
        "Among the few world leaders who may be heartened by the ruling is Brazilian President Jair Bolsonaro, an ally of Trump and his own country's evangelical Christians, who took to Twitter hours before the decision to denounce an 11-year-old girl's abortion of a fetus that was the result of rape.\n",
        "\n",
        "US 'outlier'\n",
        "\n",
        "US President Joe Biden himself deplored that the top court has \"made the United States an outlier among developed nations in the world\" as he vowed to keep up efforts to secure legal abortion.\n",
        "\n",
        "Biden made his remarks on the eve of flying to a summit in Germany, which just Friday repealed a Nazi-era law that limits the information that doctors and clinics can provide about abortion.\n",
        "\n",
        "US Secretary of State Antony Blinken made a point of stressing in a statement Friday night that his agency remains \"fully committed\" to helping provide access to reproductive health services both around the world and among its employees.\n",
        "\n",
        "Traditionally Catholic Ireland overturned an abortion ban in a 2018 referendum and Latin America, long a stronghold against abortion, has also been moving to liberalize its laws.\n",
        "\n",
        "Colombia in February legalized abortion up to 24 weeks into pregnancy and Chile shortly afterward said it would enshrine the decriminalization of abortion in its constitution.\n",
        "\n",
        "Mexico last year had its own historic Supreme Court decision -- declaring the prohibition of abortion unconstitutional.\n",
        "\n",
        "The United States was one of the first countries to grant a nationwide right to abortion with the 1973 Roe v. Wade decision that was overturned Friday after years of mobilization by opponents.\n",
        "\n",
        "The United States was also an outlier in its sweeping right to abortion throughout pregnancy, although advocates stress that few doctors perform late-term pregnancies except in exceptional circumstances.\n",
        "\n",
        "Representative Mike Waltz, a Republican, said that the United States had been \"one of only a handful of countries in the world that allow abortion on demand, comparable to authoritarian regimes such as China and North Korea.\"\n",
        "\n",
        "\"Even most European nations maintain some restrictions for abortions,\" he said in a statement.\n",
        "\n",
        "The Supreme Court decision, he said, \"will save millions of innocent, unborn lives.\"\n",
        "\n",
        "Drawing the anger of Republican administrations, a number of aid groups have advocated for legal abortion on the grounds that banning it would only make the procedure less safe and put women's lives at risk.\n",
        "\n",
        "\n",
        "\n",
        "\"\"\""
      ]
    },
    {
      "cell_type": "code",
      "execution_count": null,
      "metadata": {
        "id": "b6j6Eh99V6uJ"
      },
      "outputs": [],
      "source": [
        "nlp = spacy.load(\"en_core_web_sm\")"
      ]
    },
    {
      "cell_type": "code",
      "execution_count": null,
      "metadata": {
        "id": "JZQdGQSVcJ1G"
      },
      "outputs": [],
      "source": [
        "doc = nlp(text)"
      ]
    },
    {
      "cell_type": "code",
      "execution_count": null,
      "metadata": {
        "colab": {
          "base_uri": "https://localhost:8080/"
        },
        "id": "kgEW9LHucPU7",
        "outputId": "2a16b98f-b012-4b2e-bbd6-641bd0f8e54e"
      },
      "outputs": [
        {
          "name": "stdout",
          "output_type": "stream",
          "text": [
            "['\\n\\n', 'Washington', ':', 'The', 'US', 'Supreme', 'Court', \"'s\", 'historic', 'end', 'to', 'nationwide', 'abortion', 'rights', 'on', 'Friday', 'drew', 'unusual', 'criticism', 'from', 'some', 'of', 'America', \"'s\", 'closest', 'allies', 'and', 'bucks', 'a', 'global', 'trend', 'to', 'more', 'liberal', 'reproductive', 'rights', '.', '\\n', 'The', 'decision', 'came', 'one', 'day', 'after', 'the', 'Supreme', 'Court', 'also', 'struck', 'down', 'some', 'of', 'the', 'modest', 'restrictions', 'on', 'guns', '--', 'an', 'issue', 'that', ',', 'along', 'with', 'the', 'US', 'embrace', 'of', 'the', 'death', 'penalty', ',', 'has', 'long', 'shocked', 'other', 'Western', 'nations', '.', '\\n', 'British', 'Prime', 'Minister', 'Boris', 'Johnson', '--', 'a', 'Conservative', 'who', 'worked', 'closely', 'with', 'former', 'president', 'Donald', 'Trump', ',', 'whose', 'judicial', 'nominations', 'paved', 'the', 'way', 'for', 'Friday', \"'s\", 'decision', '--', 'said', 'the', 'Supreme', 'Court', 'decision', 'will', 'have', '\"', 'massive', 'impacts', '\"', 'worldwide', '.', '\\n\\n', '\"', 'I', 'think', 'it', \"'s\", 'a', 'big', 'step', 'backwards', '.', 'I', \"'ve\", 'always', 'believed', 'in', 'a', 'woman', \"'s\", 'right', 'to', 'choose', 'and', 'I', 'stick', 'to', 'that', 'view', ',', 'and', 'that', \"'s\", 'why', 'the', 'UK', 'has', 'the', 'laws', 'that', 'it', 'does', ',', '\"', 'Johnson', 'said', 'on', 'a', 'visit', 'to', 'Rwanda', '.', '\\n\\n', 'Canadian', 'Prime', 'Minister', 'Justin', 'Trudeau', 'denounced', 'the', 'decision', 'across', 'the', 'border', 'as', '\"', 'horrific', '.', '\"', '\\n\\n', '\"', 'No', 'government', ',', 'politician', ',', 'or', 'man', 'should', 'tell', 'a', 'woman', 'what', 'she', 'can', 'and', 'can', 'not', 'do', 'with', 'her', 'body', ',', '\"', 'Trudeau', 'wrote', 'on', 'Twitter', '.', '\\n\\n', 'French', 'President', 'Emmanuel', 'Macron', 'voiced', 'his', '\"', 'solidarity', 'with', 'women', 'whose', 'freedoms', 'are', 'today', 'challenged', '\"', 'by', 'the', 'US', 'Supreme', 'Court', ',', 'while', 'Swedish', 'Foreign', 'Minister', 'Ann', 'Linde', 'said', 'that', 'legal', 'and', 'safe', 'abortion', 'was', 'a', 'fundamental', 'right', '.', '\\n\\n', '\"', 'Depriving', 'women', 'of', 'their', 'individual', 'rights', 'is', 'a', 'backlash', 'against', 'decades', 'of', 'hard', '-', 'fought', 'work', ',', '\"', 'Linde', 'said', '.', '\\n\\n', 'Among', 'the', 'few', 'world', 'leaders', 'who', 'may', 'be', 'heartened', 'by', 'the', 'ruling', 'is', 'Brazilian', 'President', 'Jair', 'Bolsonaro', ',', 'an', 'ally', 'of', 'Trump', 'and', 'his', 'own', 'country', \"'s\", 'evangelical', 'Christians', ',', 'who', 'took', 'to', 'Twitter', 'hours', 'before', 'the', 'decision', 'to', 'denounce', 'an', '11', '-', 'year', '-', 'old', 'girl', \"'s\", 'abortion', 'of', 'a', 'fetus', 'that', 'was', 'the', 'result', 'of', 'rape', '.', '\\n\\n', 'US', \"'\", 'outlier', \"'\", '\\n\\n', 'US', 'President', 'Joe', 'Biden', 'himself', 'deplored', 'that', 'the', 'top', 'court', 'has', '\"', 'made', 'the', 'United', 'States', 'an', 'outlier', 'among', 'developed', 'nations', 'in', 'the', 'world', '\"', 'as', 'he', 'vowed', 'to', 'keep', 'up', 'efforts', 'to', 'secure', 'legal', 'abortion', '.', '\\n\\n', 'Biden', 'made', 'his', 'remarks', 'on', 'the', 'eve', 'of', 'flying', 'to', 'a', 'summit', 'in', 'Germany', ',', 'which', 'just', 'Friday', 'repealed', 'a', 'Nazi', '-', 'era', 'law', 'that', 'limits', 'the', 'information', 'that', 'doctors', 'and', 'clinics', 'can', 'provide', 'about', 'abortion', '.', '\\n\\n', 'US', 'Secretary', 'of', 'State', 'Antony', 'Blinken', 'made', 'a', 'point', 'of', 'stressing', 'in', 'a', 'statement', 'Friday', 'night', 'that', 'his', 'agency', 'remains', '\"', 'fully', 'committed', '\"', 'to', 'helping', 'provide', 'access', 'to', 'reproductive', 'health', 'services', 'both', 'around', 'the', 'world', 'and', 'among', 'its', 'employees', '.', '\\n\\n', 'Traditionally', 'Catholic', 'Ireland', 'overturned', 'an', 'abortion', 'ban', 'in', 'a', '2018', 'referendum', 'and', 'Latin', 'America', ',', 'long', 'a', 'stronghold', 'against', 'abortion', ',', 'has', 'also', 'been', 'moving', 'to', 'liberalize', 'its', 'laws', '.', '\\n\\n', 'Colombia', 'in', 'February', 'legalized', 'abortion', 'up', 'to', '24', 'weeks', 'into', 'pregnancy', 'and', 'Chile', 'shortly', 'afterward', 'said', 'it', 'would', 'enshrine', 'the', 'decriminalization', 'of', 'abortion', 'in', 'its', 'constitution', '.', '\\n\\n', 'Mexico', 'last', 'year', 'had', 'its', 'own', 'historic', 'Supreme', 'Court', 'decision', '--', 'declaring', 'the', 'prohibition', 'of', 'abortion', 'unconstitutional', '.', '\\n\\n', 'The', 'United', 'States', 'was', 'one', 'of', 'the', 'first', 'countries', 'to', 'grant', 'a', 'nationwide', 'right', 'to', 'abortion', 'with', 'the', '1973', 'Roe', 'v.', 'Wade', 'decision', 'that', 'was', 'overturned', 'Friday', 'after', 'years', 'of', 'mobilization', 'by', 'opponents', '.', '\\n\\n', 'The', 'United', 'States', 'was', 'also', 'an', 'outlier', 'in', 'its', 'sweeping', 'right', 'to', 'abortion', 'throughout', 'pregnancy', ',', 'although', 'advocates', 'stress', 'that', 'few', 'doctors', 'perform', 'late', '-', 'term', 'pregnancies', 'except', 'in', 'exceptional', 'circumstances', '.', '\\n\\n', 'Representative', 'Mike', 'Waltz', ',', 'a', 'Republican', ',', 'said', 'that', 'the', 'United', 'States', 'had', 'been', '\"', 'one', 'of', 'only', 'a', 'handful', 'of', 'countries', 'in', 'the', 'world', 'that', 'allow', 'abortion', 'on', 'demand', ',', 'comparable', 'to', 'authoritarian', 'regimes', 'such', 'as', 'China', 'and', 'North', 'Korea', '.', '\"', '\\n\\n', '\"', 'Even', 'most', 'European', 'nations', 'maintain', 'some', 'restrictions', 'for', 'abortions', ',', '\"', 'he', 'said', 'in', 'a', 'statement', '.', '\\n\\n', 'The', 'Supreme', 'Court', 'decision', ',', 'he', 'said', ',', '\"', 'will', 'save', 'millions', 'of', 'innocent', ',', 'unborn', 'lives', '.', '\"', '\\n\\n', 'Drawing', 'the', 'anger', 'of', 'Republican', 'administrations', ',', 'a', 'number', 'of', 'aid', 'groups', 'have', 'advocated', 'for', 'legal', 'abortion', 'on', 'the', 'grounds', 'that', 'banning', 'it', 'would', 'only', 'make', 'the', 'procedure', 'less', 'safe', 'and', 'put', 'women', \"'s\", 'lives', 'at', 'risk', '.', '\\n\\n\\n\\n']\n"
          ]
        }
      ],
      "source": [
        "# Word tokenisation\n",
        "tokens = [token.text for token in doc]\n",
        "print(tokens)"
      ]
    },
    {
      "cell_type": "markdown",
      "metadata": {
        "id": "P5AX86VQJlzq"
      },
      "source": [
        "## Word Frequency Count."
      ]
    },
    {
      "cell_type": "code",
      "execution_count": null,
      "metadata": {
        "colab": {
          "base_uri": "https://localhost:8080/",
          "height": 36
        },
        "id": "qAQPTs6fcPdQ",
        "outputId": "a199d7ae-3623-4fb8-bd1f-8d8af8c7eab4"
      },
      "outputs": [
        {
          "data": {
            "application/vnd.google.colaboratory.intrinsic+json": {
              "type": "string"
            },
            "text/plain": [
              "'!\"#$%&\\'()*+,-./:;<=>?@[\\\\]^_`{|}~\\n\\n\\n'"
            ]
          },
          "execution_count": 6,
          "metadata": {},
          "output_type": "execute_result"
        }
      ],
      "source": [
        "stopwords = list(STOP_WORDS)\n",
        "\n",
        "# We will include \\n into punctuation.\n",
        "punctuations = punctuation + '\\n' + '\\n\\n'\n",
        "\n",
        "punctuations"
      ]
    },
    {
      "cell_type": "code",
      "execution_count": null,
      "metadata": {
        "id": "ckHQNabncPf8"
      },
      "outputs": [],
      "source": [
        "# Finding out the most used words.\n",
        "\n",
        "word_frequency = {}\n",
        "for word in doc:\n",
        "  if word.text.lower() not in stopwords:\n",
        "    if word.text.lower() not in punctuations:\n",
        "      if word.text.lower() not in word_frequency.keys():\n",
        "        word_frequency[word.text.lower()] = 1\n",
        "      else:\n",
        "        word_frequency[word.text.lower()] += 1"
      ]
    },
    {
      "cell_type": "code",
      "execution_count": null,
      "metadata": {
        "colab": {
          "base_uri": "https://localhost:8080/"
        },
        "id": "tuJ-_oL0cPik",
        "outputId": "8adb1555-948b-48a6-cfc5-613b98c9d47e"
      },
      "outputs": [
        {
          "name": "stdout",
          "output_type": "stream",
          "text": [
            "{'washington': 1, 'supreme': 6, 'court': 7, 'historic': 2, 'end': 1, 'nationwide': 2, 'abortion': 14, 'rights': 3, 'friday': 5, 'drew': 1, 'unusual': 1, 'criticism': 1, 'america': 2, 'closest': 1, 'allies': 1, 'bucks': 1, 'global': 1, 'trend': 1, 'liberal': 1, 'reproductive': 2, 'decision': 8, 'came': 1, 'day': 1, 'struck': 1, 'modest': 1, 'restrictions': 2, 'guns': 1, '--': 4, 'issue': 1, 'embrace': 1, 'death': 1, 'penalty': 1, 'long': 2, 'shocked': 1, 'western': 1, 'nations': 3, 'british': 1, 'prime': 2, 'minister': 3, 'boris': 1, 'johnson': 2, 'conservative': 1, 'worked': 1, 'closely': 1, 'president': 4, 'donald': 1, 'trump': 2, 'judicial': 1, 'nominations': 1, 'paved': 1, 'way': 1, 'said': 8, 'massive': 1, 'impacts': 1, 'worldwide': 1, 'think': 1, 'big': 1, 'step': 1, 'backwards': 1, 'believed': 1, 'woman': 2, 'right': 4, 'choose': 1, 'stick': 1, 'view': 1, 'uk': 1, 'laws': 2, 'visit': 1, 'rwanda': 1, 'canadian': 1, 'justin': 1, 'trudeau': 2, 'denounced': 1, 'border': 1, 'horrific': 1, 'government': 1, 'politician': 1, 'man': 1, 'tell': 1, 'body': 1, 'wrote': 1, 'twitter': 2, 'french': 1, 'emmanuel': 1, 'macron': 1, 'voiced': 1, 'solidarity': 1, 'women': 3, 'freedoms': 1, 'today': 1, 'challenged': 1, 'swedish': 1, 'foreign': 1, 'ann': 1, 'linde': 2, 'legal': 3, 'safe': 2, 'fundamental': 1, 'depriving': 1, 'individual': 1, 'backlash': 1, 'decades': 1, 'hard': 1, 'fought': 1, 'work': 1, 'world': 4, 'leaders': 1, 'heartened': 1, 'ruling': 1, 'brazilian': 1, 'jair': 1, 'bolsonaro': 1, 'ally': 1, 'country': 1, 'evangelical': 1, 'christians': 1, 'took': 1, 'hours': 1, 'denounce': 1, '11': 1, 'year': 2, 'old': 1, 'girl': 1, 'fetus': 1, 'result': 1, 'rape': 1, 'outlier': 3, 'joe': 1, 'biden': 2, 'deplored': 1, 'united': 4, 'states': 4, 'developed': 1, 'vowed': 1, 'efforts': 1, 'secure': 1, 'remarks': 1, 'eve': 1, 'flying': 1, 'summit': 1, 'germany': 1, 'repealed': 1, 'nazi': 1, 'era': 1, 'law': 1, 'limits': 1, 'information': 1, 'doctors': 2, 'clinics': 1, 'provide': 2, 'secretary': 1, 'state': 1, 'antony': 1, 'blinken': 1, 'point': 1, 'stressing': 1, 'statement': 2, 'night': 1, 'agency': 1, 'remains': 1, 'fully': 1, 'committed': 1, 'helping': 1, 'access': 1, 'health': 1, 'services': 1, 'employees': 1, 'traditionally': 1, 'catholic': 1, 'ireland': 1, 'overturned': 2, 'ban': 1, '2018': 1, 'referendum': 1, 'latin': 1, 'stronghold': 1, 'moving': 1, 'liberalize': 1, 'colombia': 1, 'february': 1, 'legalized': 1, '24': 1, 'weeks': 1, 'pregnancy': 2, 'chile': 1, 'shortly': 1, 'afterward': 1, 'enshrine': 1, 'decriminalization': 1, 'constitution': 1, 'mexico': 1, 'declaring': 1, 'prohibition': 1, 'unconstitutional': 1, 'countries': 2, 'grant': 1, '1973': 1, 'roe': 1, 'v.': 1, 'wade': 1, 'years': 1, 'mobilization': 1, 'opponents': 1, 'sweeping': 1, 'advocates': 1, 'stress': 1, 'perform': 1, 'late': 1, 'term': 1, 'pregnancies': 1, 'exceptional': 1, 'circumstances': 1, 'representative': 1, 'mike': 1, 'waltz': 1, 'republican': 2, 'handful': 1, 'allow': 1, 'demand': 1, 'comparable': 1, 'authoritarian': 1, 'regimes': 1, 'china': 1, 'north': 1, 'korea': 1, 'european': 1, 'maintain': 1, 'abortions': 1, 'save': 1, 'millions': 1, 'innocent': 1, 'unborn': 1, 'lives': 2, 'drawing': 1, 'anger': 1, 'administrations': 1, 'number': 1, 'aid': 1, 'groups': 1, 'advocated': 1, 'grounds': 1, 'banning': 1, 'procedure': 1, 'risk': 1, '\\n\\n\\n\\n': 1}\n"
          ]
        }
      ],
      "source": [
        "print(word_frequency)"
      ]
    },
    {
      "cell_type": "code",
      "execution_count": null,
      "metadata": {
        "id": "s0lCw5C4cOOk"
      },
      "outputs": [],
      "source": [
        "max_frequency = max(word_frequency.values())"
      ]
    },
    {
      "cell_type": "code",
      "execution_count": null,
      "metadata": {
        "id": "nIyYiqgycOZF"
      },
      "outputs": [],
      "source": [
        "# Normalising the word frequencies \n",
        "for word in word_frequency.keys():\n",
        "  word_frequency[word] = word_frequency[word]/max_frequency"
      ]
    },
    {
      "cell_type": "code",
      "execution_count": null,
      "metadata": {
        "colab": {
          "base_uri": "https://localhost:8080/"
        },
        "id": "YaKMpOyvcOcp",
        "outputId": "0bb5783d-1629-4872-f6b8-8b51163cf866"
      },
      "outputs": [
        {
          "name": "stdout",
          "output_type": "stream",
          "text": [
            "{'washington': 0.07142857142857142, 'supreme': 0.42857142857142855, 'court': 0.5, 'historic': 0.14285714285714285, 'end': 0.07142857142857142, 'nationwide': 0.14285714285714285, 'abortion': 1.0, 'rights': 0.21428571428571427, 'friday': 0.35714285714285715, 'drew': 0.07142857142857142, 'unusual': 0.07142857142857142, 'criticism': 0.07142857142857142, 'america': 0.14285714285714285, 'closest': 0.07142857142857142, 'allies': 0.07142857142857142, 'bucks': 0.07142857142857142, 'global': 0.07142857142857142, 'trend': 0.07142857142857142, 'liberal': 0.07142857142857142, 'reproductive': 0.14285714285714285, 'decision': 0.5714285714285714, 'came': 0.07142857142857142, 'day': 0.07142857142857142, 'struck': 0.07142857142857142, 'modest': 0.07142857142857142, 'restrictions': 0.14285714285714285, 'guns': 0.07142857142857142, '--': 0.2857142857142857, 'issue': 0.07142857142857142, 'embrace': 0.07142857142857142, 'death': 0.07142857142857142, 'penalty': 0.07142857142857142, 'long': 0.14285714285714285, 'shocked': 0.07142857142857142, 'western': 0.07142857142857142, 'nations': 0.21428571428571427, 'british': 0.07142857142857142, 'prime': 0.14285714285714285, 'minister': 0.21428571428571427, 'boris': 0.07142857142857142, 'johnson': 0.14285714285714285, 'conservative': 0.07142857142857142, 'worked': 0.07142857142857142, 'closely': 0.07142857142857142, 'president': 0.2857142857142857, 'donald': 0.07142857142857142, 'trump': 0.14285714285714285, 'judicial': 0.07142857142857142, 'nominations': 0.07142857142857142, 'paved': 0.07142857142857142, 'way': 0.07142857142857142, 'said': 0.5714285714285714, 'massive': 0.07142857142857142, 'impacts': 0.07142857142857142, 'worldwide': 0.07142857142857142, 'think': 0.07142857142857142, 'big': 0.07142857142857142, 'step': 0.07142857142857142, 'backwards': 0.07142857142857142, 'believed': 0.07142857142857142, 'woman': 0.14285714285714285, 'right': 0.2857142857142857, 'choose': 0.07142857142857142, 'stick': 0.07142857142857142, 'view': 0.07142857142857142, 'uk': 0.07142857142857142, 'laws': 0.14285714285714285, 'visit': 0.07142857142857142, 'rwanda': 0.07142857142857142, 'canadian': 0.07142857142857142, 'justin': 0.07142857142857142, 'trudeau': 0.14285714285714285, 'denounced': 0.07142857142857142, 'border': 0.07142857142857142, 'horrific': 0.07142857142857142, 'government': 0.07142857142857142, 'politician': 0.07142857142857142, 'man': 0.07142857142857142, 'tell': 0.07142857142857142, 'body': 0.07142857142857142, 'wrote': 0.07142857142857142, 'twitter': 0.14285714285714285, 'french': 0.07142857142857142, 'emmanuel': 0.07142857142857142, 'macron': 0.07142857142857142, 'voiced': 0.07142857142857142, 'solidarity': 0.07142857142857142, 'women': 0.21428571428571427, 'freedoms': 0.07142857142857142, 'today': 0.07142857142857142, 'challenged': 0.07142857142857142, 'swedish': 0.07142857142857142, 'foreign': 0.07142857142857142, 'ann': 0.07142857142857142, 'linde': 0.14285714285714285, 'legal': 0.21428571428571427, 'safe': 0.14285714285714285, 'fundamental': 0.07142857142857142, 'depriving': 0.07142857142857142, 'individual': 0.07142857142857142, 'backlash': 0.07142857142857142, 'decades': 0.07142857142857142, 'hard': 0.07142857142857142, 'fought': 0.07142857142857142, 'work': 0.07142857142857142, 'world': 0.2857142857142857, 'leaders': 0.07142857142857142, 'heartened': 0.07142857142857142, 'ruling': 0.07142857142857142, 'brazilian': 0.07142857142857142, 'jair': 0.07142857142857142, 'bolsonaro': 0.07142857142857142, 'ally': 0.07142857142857142, 'country': 0.07142857142857142, 'evangelical': 0.07142857142857142, 'christians': 0.07142857142857142, 'took': 0.07142857142857142, 'hours': 0.07142857142857142, 'denounce': 0.07142857142857142, '11': 0.07142857142857142, 'year': 0.14285714285714285, 'old': 0.07142857142857142, 'girl': 0.07142857142857142, 'fetus': 0.07142857142857142, 'result': 0.07142857142857142, 'rape': 0.07142857142857142, 'outlier': 0.21428571428571427, 'joe': 0.07142857142857142, 'biden': 0.14285714285714285, 'deplored': 0.07142857142857142, 'united': 0.2857142857142857, 'states': 0.2857142857142857, 'developed': 0.07142857142857142, 'vowed': 0.07142857142857142, 'efforts': 0.07142857142857142, 'secure': 0.07142857142857142, 'remarks': 0.07142857142857142, 'eve': 0.07142857142857142, 'flying': 0.07142857142857142, 'summit': 0.07142857142857142, 'germany': 0.07142857142857142, 'repealed': 0.07142857142857142, 'nazi': 0.07142857142857142, 'era': 0.07142857142857142, 'law': 0.07142857142857142, 'limits': 0.07142857142857142, 'information': 0.07142857142857142, 'doctors': 0.14285714285714285, 'clinics': 0.07142857142857142, 'provide': 0.14285714285714285, 'secretary': 0.07142857142857142, 'state': 0.07142857142857142, 'antony': 0.07142857142857142, 'blinken': 0.07142857142857142, 'point': 0.07142857142857142, 'stressing': 0.07142857142857142, 'statement': 0.14285714285714285, 'night': 0.07142857142857142, 'agency': 0.07142857142857142, 'remains': 0.07142857142857142, 'fully': 0.07142857142857142, 'committed': 0.07142857142857142, 'helping': 0.07142857142857142, 'access': 0.07142857142857142, 'health': 0.07142857142857142, 'services': 0.07142857142857142, 'employees': 0.07142857142857142, 'traditionally': 0.07142857142857142, 'catholic': 0.07142857142857142, 'ireland': 0.07142857142857142, 'overturned': 0.14285714285714285, 'ban': 0.07142857142857142, '2018': 0.07142857142857142, 'referendum': 0.07142857142857142, 'latin': 0.07142857142857142, 'stronghold': 0.07142857142857142, 'moving': 0.07142857142857142, 'liberalize': 0.07142857142857142, 'colombia': 0.07142857142857142, 'february': 0.07142857142857142, 'legalized': 0.07142857142857142, '24': 0.07142857142857142, 'weeks': 0.07142857142857142, 'pregnancy': 0.14285714285714285, 'chile': 0.07142857142857142, 'shortly': 0.07142857142857142, 'afterward': 0.07142857142857142, 'enshrine': 0.07142857142857142, 'decriminalization': 0.07142857142857142, 'constitution': 0.07142857142857142, 'mexico': 0.07142857142857142, 'declaring': 0.07142857142857142, 'prohibition': 0.07142857142857142, 'unconstitutional': 0.07142857142857142, 'countries': 0.14285714285714285, 'grant': 0.07142857142857142, '1973': 0.07142857142857142, 'roe': 0.07142857142857142, 'v.': 0.07142857142857142, 'wade': 0.07142857142857142, 'years': 0.07142857142857142, 'mobilization': 0.07142857142857142, 'opponents': 0.07142857142857142, 'sweeping': 0.07142857142857142, 'advocates': 0.07142857142857142, 'stress': 0.07142857142857142, 'perform': 0.07142857142857142, 'late': 0.07142857142857142, 'term': 0.07142857142857142, 'pregnancies': 0.07142857142857142, 'exceptional': 0.07142857142857142, 'circumstances': 0.07142857142857142, 'representative': 0.07142857142857142, 'mike': 0.07142857142857142, 'waltz': 0.07142857142857142, 'republican': 0.14285714285714285, 'handful': 0.07142857142857142, 'allow': 0.07142857142857142, 'demand': 0.07142857142857142, 'comparable': 0.07142857142857142, 'authoritarian': 0.07142857142857142, 'regimes': 0.07142857142857142, 'china': 0.07142857142857142, 'north': 0.07142857142857142, 'korea': 0.07142857142857142, 'european': 0.07142857142857142, 'maintain': 0.07142857142857142, 'abortions': 0.07142857142857142, 'save': 0.07142857142857142, 'millions': 0.07142857142857142, 'innocent': 0.07142857142857142, 'unborn': 0.07142857142857142, 'lives': 0.14285714285714285, 'drawing': 0.07142857142857142, 'anger': 0.07142857142857142, 'administrations': 0.07142857142857142, 'number': 0.07142857142857142, 'aid': 0.07142857142857142, 'groups': 0.07142857142857142, 'advocated': 0.07142857142857142, 'grounds': 0.07142857142857142, 'banning': 0.07142857142857142, 'procedure': 0.07142857142857142, 'risk': 0.07142857142857142, '\\n\\n\\n\\n': 0.07142857142857142}\n"
          ]
        }
      ],
      "source": [
        "print(word_frequency)"
      ]
    },
    {
      "cell_type": "markdown",
      "metadata": {
        "id": "S0gMTMoieXsa"
      },
      "source": [
        "## Priority Sentence."
      ]
    },
    {
      "cell_type": "code",
      "execution_count": null,
      "metadata": {
        "id": "oIod2jcleO89"
      },
      "outputs": [],
      "source": [
        "# Sentence tokenisation\n",
        "sent_token = [sent for sent in doc.sents]\n",
        "\n",
        "# Most relevant sentence to our passage.\n",
        "\n",
        "sentence_score = {}\n",
        "\n",
        "for sent in sent_token:\n",
        "  for word in sent:\n",
        "    if word.text.lower() in word_frequency.keys():\n",
        "      if sent not in sentence_score.keys():\n",
        "        sentence_score[sent] = word_frequency[word.text.lower()]\n",
        "      else:\n",
        "        sentence_score[sent] += word_frequency[word.text.lower()]"
      ]
    },
    {
      "cell_type": "code",
      "execution_count": null,
      "metadata": {
        "colab": {
          "base_uri": "https://localhost:8080/"
        },
        "id": "U4bJkltEtsOi",
        "outputId": "be329f00-8214-4446-8722-50e27a283de4"
      },
      "outputs": [
        {
          "data": {
            "text/plain": [
              "{\n",
              " \n",
              " Washington: The US Supreme Court's historic end to nationwide abortion rights on Friday drew unusual criticism from some of America's closest allies and bucks a global trend to more liberal reproductive rights.: 4.071428571428573,\n",
              " The decision came one day after the Supreme Court also struck down some of the modest restrictions on guns -- an issue that, along with the US embrace of the death penalty, has long shocked other Western nations.: 3.0714285714285725,\n",
              " British Prime Minister Boris Johnson -- a Conservative who worked closely with former president Donald Trump, whose judicial nominations paved the way for Friday's decision -- said the Supreme Court decision will have \"massive impacts\" worldwide.\n",
              " : 5.428571428571427,\n",
              " \"I think it's a big step backwards.: 0.2857142857142857,\n",
              " I've always believed in a woman's right to choose and I stick to that view, and that's why the UK has the laws that it does,\" Johnson said on a visit to Rwanda.\n",
              " : 1.7857142857142854,\n",
              " Canadian Prime Minister Justin Trudeau denounced the decision across the border as \"horrific.\"\n",
              " \n",
              " \"No government, politician, or man should tell a woman what she can and cannot do with her body,\" Trudeau wrote on Twitter.\n",
              " : 2.2857142857142856,\n",
              " French President Emmanuel Macron voiced his \"solidarity with women whose freedoms are today challenged\" by the US Supreme Court, while Swedish Foreign Minister Ann Linde said that legal and safe abortion was a fundamental right.\n",
              " : 4.857142857142857,\n",
              " \"Depriving women of their individual rights is a backlash against decades of hard-fought work,\" Linde said.\n",
              " : 1.6428571428571426,\n",
              " Among the few world leaders who may be heartened by the ruling is Brazilian President Jair Bolsonaro, an ally of Trump and his own country's evangelical Christians, who took to Twitter hours before the decision to denounce an 11-year-old girl's abortion of a fetus that was the result of rape.\n",
              " : 3.9285714285714293,\n",
              " US 'outlier'\n",
              " \n",
              " US President Joe Biden himself deplored that the top court has \"made the United States an outlier among developed nations in the world\" as he vowed to keep up efforts to secure legal abortion.\n",
              " : 4.071428571428572,\n",
              " Biden made his remarks on the eve of flying to a summit in Germany, which just Friday repealed a Nazi-era law that limits the information that doctors and clinics can provide about abortion.\n",
              " : 2.6428571428571423,\n",
              " US Secretary of State Antony Blinken made a point of stressing in a statement Friday night that his agency remains \"fully committed\" to helping provide access to reproductive health services both around the world and among its employees.\n",
              " : 2.214285714285714,\n",
              " Traditionally Catholic Ireland overturned an abortion ban in a 2018 referendum and Latin America, long a stronghold against abortion, has also been moving to liberalize its laws.\n",
              " : 3.285714285714286,\n",
              " Colombia in February legalized abortion up to 24 weeks into pregnancy and Chile shortly afterward said it would enshrine the decriminalization of abortion in its constitution.\n",
              " : 3.5000000000000004,\n",
              " Mexico last year had its own historic Supreme Court decision -- declaring the prohibition of abortion unconstitutional.\n",
              " : 3.3571428571428577,\n",
              " The United States was one of the first countries to grant a nationwide right to abortion with the 1973 Roe v. Wade decision that was overturned Friday after years of mobilization by opponents.\n",
              " : 3.785714285714287,\n",
              " The United States was also an outlier in its sweeping right to abortion throughout pregnancy, although advocates stress that few doctors perform late-term pregnancies except in exceptional circumstances.\n",
              " : 3.0000000000000013,\n",
              " Representative Mike Waltz, a Republican, said that the United States had been \"one of only a handful of countries in the world that allow abortion on demand, comparable to authoritarian regimes such as China and North Korea.\"\n",
              " \n",
              " \"Even most European nations maintain some restrictions for abortions,\" he said in a statement.\n",
              " : 4.857142857142859,\n",
              " The Supreme Court decision, he said, \"will save millions of innocent, unborn lives.: 2.5000000000000004,\n",
              " \"\n",
              " \n",
              " Drawing the anger of Republican administrations, a number of aid groups have advocated for legal abortion on the grounds that banning it would only make the procedure less safe and put women's lives at risk.\n",
              " \n",
              " \n",
              " : 2.7142857142857144}"
            ]
          },
          "execution_count": 13,
          "metadata": {},
          "output_type": "execute_result"
        }
      ],
      "source": [
        "sentence_score"
      ]
    },
    {
      "cell_type": "markdown",
      "metadata": {
        "id": "mrwbCnH0t_S2"
      },
      "source": [
        "## Extracting the most important Sentences"
      ]
    },
    {
      "cell_type": "code",
      "execution_count": null,
      "metadata": {
        "colab": {
          "base_uri": "https://localhost:8080/"
        },
        "id": "BgD42WrZtw6H",
        "outputId": "38d91f0b-d364-47c0-8df2-963ad67aff35"
      },
      "outputs": [
        {
          "data": {
            "text/plain": [
              "7"
            ]
          },
          "execution_count": 14,
          "metadata": {},
          "output_type": "execute_result"
        }
      ],
      "source": [
        "# Selecting 35% of sentences from total passage as summary.\n",
        "\n",
        "select_length = int(len(sent_token)*0.35)\n",
        "select_length"
      ]
    },
    {
      "cell_type": "code",
      "execution_count": null,
      "metadata": {
        "id": "60erN00rvbxA"
      },
      "outputs": [],
      "source": [
        "# Importing nlargest from heapq\n",
        "from heapq import nlargest\n",
        "\n",
        "summary = nlargest(select_length, sentence_score, key=sentence_score.get)"
      ]
    },
    {
      "cell_type": "code",
      "execution_count": null,
      "metadata": {
        "colab": {
          "base_uri": "https://localhost:8080/"
        },
        "id": "jZXU3DEyv892",
        "outputId": "3ecd9f9a-d3a3-4475-e99b-0d9d8536317f"
      },
      "outputs": [
        {
          "name": "stdout",
          "output_type": "stream",
          "text": [
            "[British Prime Minister Boris Johnson -- a Conservative who worked closely with former president Donald Trump, whose judicial nominations paved the way for Friday's decision -- said the Supreme Court decision will have \"massive impacts\" worldwide.\n",
            "\n",
            ", Representative Mike Waltz, a Republican, said that the United States had been \"one of only a handful of countries in the world that allow abortion on demand, comparable to authoritarian regimes such as China and North Korea.\"\n",
            "\n",
            "\"Even most European nations maintain some restrictions for abortions,\" he said in a statement.\n",
            "\n",
            ", French President Emmanuel Macron voiced his \"solidarity with women whose freedoms are today challenged\" by the US Supreme Court, while Swedish Foreign Minister Ann Linde said that legal and safe abortion was a fundamental right.\n",
            "\n",
            ", \n",
            "\n",
            "Washington: The US Supreme Court's historic end to nationwide abortion rights on Friday drew unusual criticism from some of America's closest allies and bucks a global trend to more liberal reproductive rights.\n",
            ", US 'outlier'\n",
            "\n",
            "US President Joe Biden himself deplored that the top court has \"made the United States an outlier among developed nations in the world\" as he vowed to keep up efforts to secure legal abortion.\n",
            "\n",
            ", Among the few world leaders who may be heartened by the ruling is Brazilian President Jair Bolsonaro, an ally of Trump and his own country's evangelical Christians, who took to Twitter hours before the decision to denounce an 11-year-old girl's abortion of a fetus that was the result of rape.\n",
            "\n",
            ", The United States was one of the first countries to grant a nationwide right to abortion with the 1973 Roe v. Wade decision that was overturned Friday after years of mobilization by opponents.\n",
            "\n",
            "]\n"
          ]
        }
      ],
      "source": [
        "print(summary)"
      ]
    },
    {
      "cell_type": "code",
      "execution_count": null,
      "metadata": {
        "id": "ThTIT_qdwFGC"
      },
      "outputs": [],
      "source": [
        "summary_untokenised = [word.text for word in summary]\n",
        "end_product = ' '.join(summary_untokenised)"
      ]
    },
    {
      "cell_type": "code",
      "execution_count": null,
      "metadata": {
        "id": "f_1ax7VTxF8N"
      },
      "outputs": [],
      "source": [
        "end_product = end_product.replace('\\n', '')"
      ]
    },
    {
      "cell_type": "code",
      "execution_count": null,
      "metadata": {
        "colab": {
          "base_uri": "https://localhost:8080/"
        },
        "id": "xcHhuJGKxITs",
        "outputId": "c4453554-7899-4559-be15-680de6a0d0f0"
      },
      "outputs": [
        {
          "name": "stdout",
          "output_type": "stream",
          "text": [
            "British Prime Minister Boris Johnson -- a Conservative who worked closely with former president Donald Trump, whose judicial nominations paved the way for Friday's decision -- said the Supreme Court decision will have \"massive impacts\" worldwide. Representative Mike Waltz, a Republican, said that the United States had been \"one of only a handful of countries in the world that allow abortion on demand, comparable to authoritarian regimes such as China and North Korea.\"\"Even most European nations maintain some restrictions for abortions,\" he said in a statement. French President Emmanuel Macron voiced his \"solidarity with women whose freedoms are today challenged\" by the US Supreme Court, while Swedish Foreign Minister Ann Linde said that legal and safe abortion was a fundamental right. Washington: The US Supreme Court's historic end to nationwide abortion rights on Friday drew unusual criticism from some of America's closest allies and bucks a global trend to more liberal reproductive rights. US 'outlier'US President Joe Biden himself deplored that the top court has \"made the United States an outlier among developed nations in the world\" as he vowed to keep up efforts to secure legal abortion. Among the few world leaders who may be heartened by the ruling is Brazilian President Jair Bolsonaro, an ally of Trump and his own country's evangelical Christians, who took to Twitter hours before the decision to denounce an 11-year-old girl's abortion of a fetus that was the result of rape. The United States was one of the first countries to grant a nationwide right to abortion with the 1973 Roe v. Wade decision that was overturned Friday after years of mobilization by opponents.\n"
          ]
        }
      ],
      "source": [
        "print(end_product)"
      ]
    },
    {
      "cell_type": "code",
      "execution_count": null,
      "metadata": {
        "id": "IKf2qp9l4cfA"
      },
      "outputs": [],
      "source": []
    }
  ],
  "metadata": {
    "accelerator": "GPU",
    "colab": {
      "collapsed_sections": [],
      "name": "Text Summarisation using spaCy.ipynb",
      "provenance": []
    },
    "gpuClass": "standard",
    "kernelspec": {
      "display_name": "Python 3.10.5 64-bit",
      "language": "python",
      "name": "python3"
    },
    "language_info": {
      "name": "python",
      "version": "3.10.5"
    },
    "vscode": {
      "interpreter": {
        "hash": "2423525a78fd1b48f9ec4a104a965806735d9dd2d80ec8692907dd6dad03138c"
      }
    }
  },
  "nbformat": 4,
  "nbformat_minor": 0
}
